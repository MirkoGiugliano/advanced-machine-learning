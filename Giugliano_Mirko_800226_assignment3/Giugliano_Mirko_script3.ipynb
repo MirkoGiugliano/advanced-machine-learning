{
  "nbformat": 4,
  "nbformat_minor": 0,
  "metadata": {
    "kernelspec": {
      "name": "python3",
      "display_name": "Python 3"
    },
    "language_info": {
      "codemirror_mode": {
        "name": "ipython",
        "version": 3
      },
      "file_extension": ".py",
      "mimetype": "text/x-python",
      "name": "python",
      "nbconvert_exporter": "python",
      "pygments_lexer": "ipython3",
      "version": "3.7.3"
    },
    "colab": {
      "name": "conv.ipynb",
      "provenance": [],
      "collapsed_sections": []
    },
    "accelerator": "GPU"
  },
  "cells": [
    {
      "cell_type": "markdown",
      "metadata": {
        "id": "2_qxALDZNJ7i",
        "colab_type": "text"
      },
      "source": [
        "### import librerie\n"
      ]
    },
    {
      "cell_type": "code",
      "metadata": {
        "id": "S1wbqP9WNDcp",
        "colab_type": "code",
        "colab": {}
      },
      "source": [
        "import keras\n",
        "from keras.datasets import mnist\n",
        "import matplotlib.pyplot as plt\n",
        "from keras.models import Sequential\n",
        "from keras.layers import Dense\n",
        "from keras.utils import to_categorical\n",
        "from keras.layers import Conv2D, Flatten, Dropout\n",
        "from keras.layers import MaxPooling2D\n",
        "import pandas as pd\n",
        "from keras.callbacks import History, EarlyStopping \n",
        "from keras.layers import BatchNormalization\n",
        "from sklearn.metrics import classification_report\n",
        "from sklearn.metrics import confusion_matrix\n",
        "from sklearn.metrics import precision_recall_fscore_support\n"
      ],
      "execution_count": 0,
      "outputs": []
    },
    {
      "cell_type": "markdown",
      "metadata": {
        "id": "vZT-_n61NUMn",
        "colab_type": "text"
      },
      "source": [
        "### import datasets"
      ]
    },
    {
      "cell_type": "code",
      "metadata": {
        "id": "ybyp8NLHIMrW",
        "colab_type": "code",
        "outputId": "56ee6803-2269-43f5-a7e2-a727b2c96620",
        "colab": {
          "base_uri": "https://localhost:8080/",
          "height": 54
        }
      },
      "source": [
        "(X_train,Y_train), (X_test,Y_test) = mnist.load_data()"
      ],
      "execution_count": 0,
      "outputs": [
        {
          "output_type": "stream",
          "text": [
            "Downloading data from https://s3.amazonaws.com/img-datasets/mnist.npz\n",
            "11493376/11490434 [==============================] - 0s 0us/step\n"
          ],
          "name": "stdout"
        }
      ]
    },
    {
      "cell_type": "code",
      "metadata": {
        "id": "_uz11kjRThtm",
        "colab_type": "code",
        "outputId": "7c4ed4a6-85ea-4661-e3ba-6037957ffa5b",
        "colab": {
          "base_uri": "https://localhost:8080/",
          "height": 35
        }
      },
      "source": [
        "X_train.shape"
      ],
      "execution_count": 0,
      "outputs": [
        {
          "output_type": "execute_result",
          "data": {
            "text/plain": [
              "(60000, 28, 28)"
            ]
          },
          "metadata": {
            "tags": []
          },
          "execution_count": 3
        }
      ]
    },
    {
      "cell_type": "code",
      "metadata": {
        "id": "z--pjSF1TmYk",
        "colab_type": "code",
        "outputId": "ad0e08a5-60bd-471e-b17d-0f9e9920b3b5",
        "colab": {
          "base_uri": "https://localhost:8080/",
          "height": 35
        }
      },
      "source": [
        "Y_train.shape"
      ],
      "execution_count": 0,
      "outputs": [
        {
          "output_type": "execute_result",
          "data": {
            "text/plain": [
              "(60000,)"
            ]
          },
          "metadata": {
            "tags": []
          },
          "execution_count": 4
        }
      ]
    },
    {
      "cell_type": "code",
      "metadata": {
        "id": "PjWiePfcTmiJ",
        "colab_type": "code",
        "outputId": "c8eff7b4-90ad-4402-ffd1-830ad66ff3b0",
        "colab": {
          "base_uri": "https://localhost:8080/",
          "height": 35
        }
      },
      "source": [
        "X_test.shape"
      ],
      "execution_count": 0,
      "outputs": [
        {
          "output_type": "execute_result",
          "data": {
            "text/plain": [
              "(10000, 28, 28)"
            ]
          },
          "metadata": {
            "tags": []
          },
          "execution_count": 5
        }
      ]
    },
    {
      "cell_type": "code",
      "metadata": {
        "id": "loLGGbvFTmn_",
        "colab_type": "code",
        "outputId": "68252f3c-6530-474b-ba47-4f71bf7658cd",
        "colab": {
          "base_uri": "https://localhost:8080/",
          "height": 35
        }
      },
      "source": [
        "Y_test.shape"
      ],
      "execution_count": 0,
      "outputs": [
        {
          "output_type": "execute_result",
          "data": {
            "text/plain": [
              "(10000,)"
            ]
          },
          "metadata": {
            "tags": []
          },
          "execution_count": 6
        }
      ]
    },
    {
      "cell_type": "code",
      "metadata": {
        "scrolled": false,
        "id": "Lb9FOhFhIMra",
        "colab_type": "code",
        "outputId": "c2ac608c-310a-4573-aa70-f5c14e4027ee",
        "colab": {
          "base_uri": "https://localhost:8080/",
          "height": 266
        }
      },
      "source": [
        "plt.imshow(X_train[0].reshape([28,28]), cmap=\"gray\")\n",
        "plt.axis('off') # rimuoviamo i valori sulle assi \n",
        "print(\"La cifra nell'immagine è un %d\" % Y_train[0])"
      ],
      "execution_count": 0,
      "outputs": [
        {
          "output_type": "stream",
          "text": [
            "La cifra nell'immagine è un 5\n"
          ],
          "name": "stdout"
        },
        {
          "output_type": "display_data",
          "data": {
            "image/png": "[encoded data removed]",
            "text/plain": [
              "<Figure size 432x288 with 1 Axes>"
            ]
          },
          "metadata": {
            "tags": []
          }
        }
      ]
    },
    {
      "cell_type": "markdown",
      "metadata": {
        "id": "TO1rS0nrNdT8",
        "colab_type": "text"
      },
      "source": [
        "normalizzation and reshaping"
      ]
    },
    {
      "cell_type": "code",
      "metadata": {
        "id": "A8IQo_ACIMrg",
        "colab_type": "code",
        "outputId": "23e63d5e-6a72-4752-d846-d7d9daa966d4",
        "colab": {
          "base_uri": "https://localhost:8080/",
          "height": 35
        }
      },
      "source": [
        "num_classes=10\n",
        "\n",
        "y_train = to_categorical(Y_train, num_classes)\n",
        "y_test = to_categorical(Y_test, num_classes)\n",
        "\n",
        "Y_train[0]"
      ],
      "execution_count": 0,
      "outputs": [
        {
          "output_type": "execute_result",
          "data": {
            "text/plain": [
              "5"
            ]
          },
          "metadata": {
            "tags": []
          },
          "execution_count": 8
        }
      ]
    },
    {
      "cell_type": "code",
      "metadata": {
        "id": "GEexfKVcIMrj",
        "colab_type": "code",
        "colab": {}
      },
      "source": [
        "x_train = X_train/255\n",
        "x_test = X_test/255"
      ],
      "execution_count": 0,
      "outputs": []
    },
    {
      "cell_type": "code",
      "metadata": {
        "id": "mHG3louGIMrn",
        "colab_type": "code",
        "outputId": "4c9be056-b773-42ac-c9e2-196eaa34d5cd",
        "colab": {
          "base_uri": "https://localhost:8080/",
          "height": 35
        }
      },
      "source": [
        "x_train = X_train.reshape(x_train.shape[0], x_train.shape[1], x_train.shape[2], 1)\n",
        "x_test = X_test.reshape(x_test.shape[0], x_test.shape[1], x_test.shape[2], 1)\n",
        "x_train.shape"
      ],
      "execution_count": 0,
      "outputs": [
        {
          "output_type": "execute_result",
          "data": {
            "text/plain": [
              "(60000, 28, 28, 1)"
            ]
          },
          "metadata": {
            "tags": []
          },
          "execution_count": 10
        }
      ]
    },
    {
      "cell_type": "markdown",
      "metadata": {
        "id": "t0SdbszRNi3N",
        "colab_type": "text"
      },
      "source": [
        "### model"
      ]
    },
    {
      "cell_type": "code",
      "metadata": {
        "id": "Bu0Nq1O0IMrp",
        "colab_type": "code",
        "colab": {}
      },
      "source": [
        "model = Sequential()\n",
        "\n",
        "model.add(Conv2D(filters=10, kernel_size=(3,3), padding='valid', activation='relu', input_shape=(28,28,1)))\n",
        "model.add(MaxPooling2D(pool_size=2, strides=2,padding='same'))\n",
        "model.add(BatchNormalization())\n",
        "\n",
        "model.add(Dropout(0.1))\n",
        "model.add(Conv2D(filters=4, kernel_size=(3,3), padding='valid', activation='relu'))\n",
        "model.add(MaxPooling2D(pool_size=2, strides=2,padding='same'))\n",
        "model.add(BatchNormalization())\n",
        "\n",
        "model.add(Dropout(0.1))\n",
        "model.add(Flatten())\n",
        "model.add(Dense(44, activation='relu'))\n",
        "\n",
        "\n",
        "model.add(Dense(10, activation='softmax'))"
      ],
      "execution_count": 0,
      "outputs": []
    },
    {
      "cell_type": "code",
      "metadata": {
        "scrolled": false,
        "id": "8m21Sw8SIMrs",
        "colab_type": "code",
        "outputId": "cb553c8a-9999-46eb-a70f-ca31d853b81f",
        "colab": {
          "base_uri": "https://localhost:8080/",
          "height": 563
        }
      },
      "source": [
        "model.summary()"
      ],
      "execution_count": 0,
      "outputs": [
        {
          "output_type": "stream",
          "text": [
            "Model: \"sequential_5\"\n",
            "_________________________________________________________________\n",
            "Layer (type)                 Output Shape              Param #   \n",
            "=================================================================\n",
            "conv2d_9 (Conv2D)            (None, 26, 26, 10)        100       \n",
            "_________________________________________________________________\n",
            "max_pooling2d_9 (MaxPooling2 (None, 13, 13, 10)        0         \n",
            "_________________________________________________________________\n",
            "batch_normalization_9 (Batch (None, 13, 13, 10)        40        \n",
            "_________________________________________________________________\n",
            "dropout_13 (Dropout)         (None, 13, 13, 10)        0         \n",
            "_________________________________________________________________\n",
            "conv2d_10 (Conv2D)           (None, 11, 11, 4)         364       \n",
            "_________________________________________________________________\n",
            "max_pooling2d_10 (MaxPooling (None, 6, 6, 4)           0         \n",
            "_________________________________________________________________\n",
            "batch_normalization_10 (Batc (None, 6, 6, 4)           16        \n",
            "_________________________________________________________________\n",
            "dropout_14 (Dropout)         (None, 6, 6, 4)           0         \n",
            "_________________________________________________________________\n",
            "flatten_5 (Flatten)          (None, 144)               0         \n",
            "_________________________________________________________________\n",
            "dense_9 (Dense)              (None, 44)                6380      \n",
            "_________________________________________________________________\n",
            "dense_10 (Dense)             (None, 10)                450       \n",
            "=================================================================\n",
            "Total params: 7,350\n",
            "Trainable params: 7,322\n",
            "Non-trainable params: 28\n",
            "_________________________________________________________________\n"
          ],
          "name": "stdout"
        }
      ]
    },
    {
      "cell_type": "code",
      "metadata": {
        "id": "IOXM9ySfIMrv",
        "colab_type": "code",
        "colab": {}
      },
      "source": [
        "model.compile(loss='categorical_crossentropy', optimizer=\"RMSprop\", metrics=['accuracy'])\n"
      ],
      "execution_count": 0,
      "outputs": []
    },
    {
      "cell_type": "code",
      "metadata": {
        "id": "iHWpIR2sIMrx",
        "colab_type": "code",
        "outputId": "04451401-cd21-48c7-a06b-42f35b13832c",
        "colab": {
          "base_uri": "https://localhost:8080/",
          "height": 1000
        }
      },
      "source": [
        "\n",
        "network_history=model.fit(x_train, y_train, batch_size=512, validation_split=0.2, epochs=50)"
      ],
      "execution_count": 0,
      "outputs": [
        {
          "output_type": "stream",
          "text": [
            "Train on 48000 samples, validate on 12000 samples\n",
            "Epoch 1/50\n",
            "48000/48000 [==============================] - 3s 54us/step - loss: 0.8355 - acc: 0.7460 - val_loss: 0.2285 - val_acc: 0.9329\n",
            "Epoch 2/50\n",
            "48000/48000 [==============================] - 2s 32us/step - loss: 0.2228 - acc: 0.9321 - val_loss: 0.1507 - val_acc: 0.9538\n",
            "Epoch 3/50\n",
            "48000/48000 [==============================] - 2s 32us/step - loss: 0.1506 - acc: 0.9538 - val_loss: 0.1253 - val_acc: 0.9614\n",
            "Epoch 4/50\n",
            "48000/48000 [==============================] - 2s 32us/step - loss: 0.1229 - acc: 0.9617 - val_loss: 0.1019 - val_acc: 0.9694\n",
            "Epoch 5/50\n",
            "48000/48000 [==============================] - 2s 33us/step - loss: 0.1092 - acc: 0.9654 - val_loss: 0.0838 - val_acc: 0.9752\n",
            "Epoch 6/50\n",
            "48000/48000 [==============================] - 2s 31us/step - loss: 0.1032 - acc: 0.9675 - val_loss: 0.0710 - val_acc: 0.9790\n",
            "Epoch 7/50\n",
            "48000/48000 [==============================] - 2s 32us/step - loss: 0.0946 - acc: 0.9706 - val_loss: 0.0678 - val_acc: 0.9813\n",
            "Epoch 8/50\n",
            "48000/48000 [==============================] - 2s 32us/step - loss: 0.0875 - acc: 0.9721 - val_loss: 0.0651 - val_acc: 0.9812\n",
            "Epoch 9/50\n",
            "48000/48000 [==============================] - 2s 32us/step - loss: 0.0819 - acc: 0.9743 - val_loss: 0.0619 - val_acc: 0.9825\n",
            "Epoch 10/50\n",
            "48000/48000 [==============================] - 1s 31us/step - loss: 0.0785 - acc: 0.9753 - val_loss: 0.0606 - val_acc: 0.9824\n",
            "Epoch 11/50\n",
            "48000/48000 [==============================] - 2s 31us/step - loss: 0.0744 - acc: 0.9763 - val_loss: 0.0574 - val_acc: 0.9834\n",
            "Epoch 12/50\n",
            "48000/48000 [==============================] - 2s 32us/step - loss: 0.0729 - acc: 0.9768 - val_loss: 0.0584 - val_acc: 0.9833\n",
            "Epoch 13/50\n",
            "48000/48000 [==============================] - 2s 32us/step - loss: 0.0693 - acc: 0.9782 - val_loss: 0.0578 - val_acc: 0.9827\n",
            "Epoch 14/50\n",
            "48000/48000 [==============================] - 1s 31us/step - loss: 0.0673 - acc: 0.9777 - val_loss: 0.0532 - val_acc: 0.9839\n",
            "Epoch 15/50\n",
            "48000/48000 [==============================] - 1s 31us/step - loss: 0.0637 - acc: 0.9802 - val_loss: 0.0518 - val_acc: 0.9843\n",
            "Epoch 16/50\n",
            "48000/48000 [==============================] - 2s 32us/step - loss: 0.0628 - acc: 0.9796 - val_loss: 0.0497 - val_acc: 0.9847\n",
            "Epoch 17/50\n",
            "48000/48000 [==============================] - 1s 31us/step - loss: 0.0609 - acc: 0.9796 - val_loss: 0.0491 - val_acc: 0.9854\n",
            "Epoch 18/50\n",
            "48000/48000 [==============================] - 2s 31us/step - loss: 0.0613 - acc: 0.9808 - val_loss: 0.0493 - val_acc: 0.9858\n",
            "Epoch 19/50\n",
            "48000/48000 [==============================] - 2s 32us/step - loss: 0.0583 - acc: 0.9815 - val_loss: 0.0502 - val_acc: 0.9858\n",
            "Epoch 20/50\n",
            "48000/48000 [==============================] - 2s 31us/step - loss: 0.0568 - acc: 0.9817 - val_loss: 0.0471 - val_acc: 0.9873\n",
            "Epoch 21/50\n",
            "48000/48000 [==============================] - 1s 31us/step - loss: 0.0554 - acc: 0.9827 - val_loss: 0.0468 - val_acc: 0.9856\n",
            "Epoch 22/50\n",
            "48000/48000 [==============================] - 1s 31us/step - loss: 0.0546 - acc: 0.9816 - val_loss: 0.0453 - val_acc: 0.9863\n",
            "Epoch 23/50\n",
            "48000/48000 [==============================] - 1s 31us/step - loss: 0.0504 - acc: 0.9835 - val_loss: 0.0501 - val_acc: 0.9854\n",
            "Epoch 24/50\n",
            "48000/48000 [==============================] - 1s 31us/step - loss: 0.0529 - acc: 0.9825 - val_loss: 0.0460 - val_acc: 0.9867\n",
            "Epoch 25/50\n",
            "48000/48000 [==============================] - 2s 32us/step - loss: 0.0503 - acc: 0.9834 - val_loss: 0.0464 - val_acc: 0.9868\n",
            "Epoch 26/50\n",
            "48000/48000 [==============================] - 1s 31us/step - loss: 0.0506 - acc: 0.9839 - val_loss: 0.0430 - val_acc: 0.9876\n",
            "Epoch 27/50\n",
            "48000/48000 [==============================] - 2s 31us/step - loss: 0.0491 - acc: 0.9835 - val_loss: 0.0446 - val_acc: 0.9867\n",
            "Epoch 28/50\n",
            "48000/48000 [==============================] - 1s 30us/step - loss: 0.0466 - acc: 0.9844 - val_loss: 0.0437 - val_acc: 0.9876\n",
            "Epoch 29/50\n",
            "48000/48000 [==============================] - 1s 30us/step - loss: 0.0476 - acc: 0.9847 - val_loss: 0.0431 - val_acc: 0.9876\n",
            "Epoch 30/50\n",
            "48000/48000 [==============================] - 1s 30us/step - loss: 0.0446 - acc: 0.9853 - val_loss: 0.0429 - val_acc: 0.9872\n",
            "Epoch 31/50\n",
            "48000/48000 [==============================] - 1s 30us/step - loss: 0.0451 - acc: 0.9849 - val_loss: 0.0444 - val_acc: 0.9864\n",
            "Epoch 32/50\n",
            "48000/48000 [==============================] - 1s 30us/step - loss: 0.0439 - acc: 0.9856 - val_loss: 0.0430 - val_acc: 0.9875\n",
            "Epoch 33/50\n",
            "48000/48000 [==============================] - 1s 31us/step - loss: 0.0447 - acc: 0.9852 - val_loss: 0.0413 - val_acc: 0.9876\n",
            "Epoch 34/50\n",
            "48000/48000 [==============================] - 1s 31us/step - loss: 0.0431 - acc: 0.9857 - val_loss: 0.0427 - val_acc: 0.9871\n",
            "Epoch 35/50\n",
            "48000/48000 [==============================] - 1s 31us/step - loss: 0.0430 - acc: 0.9854 - val_loss: 0.0413 - val_acc: 0.9872\n",
            "Epoch 36/50\n",
            "48000/48000 [==============================] - 1s 30us/step - loss: 0.0428 - acc: 0.9853 - val_loss: 0.0396 - val_acc: 0.9887\n",
            "Epoch 37/50\n",
            "48000/48000 [==============================] - 1s 31us/step - loss: 0.0420 - acc: 0.9855 - val_loss: 0.0405 - val_acc: 0.9873\n",
            "Epoch 38/50\n",
            "48000/48000 [==============================] - 1s 30us/step - loss: 0.0414 - acc: 0.9864 - val_loss: 0.0384 - val_acc: 0.9883\n",
            "Epoch 39/50\n",
            "48000/48000 [==============================] - 1s 30us/step - loss: 0.0398 - acc: 0.9861 - val_loss: 0.0393 - val_acc: 0.9881\n",
            "Epoch 40/50\n",
            "48000/48000 [==============================] - 1s 30us/step - loss: 0.0402 - acc: 0.9866 - val_loss: 0.0403 - val_acc: 0.9881\n",
            "Epoch 41/50\n",
            "48000/48000 [==============================] - 1s 30us/step - loss: 0.0398 - acc: 0.9866 - val_loss: 0.0400 - val_acc: 0.9874\n",
            "Epoch 42/50\n",
            "48000/48000 [==============================] - 1s 29us/step - loss: 0.0391 - acc: 0.9875 - val_loss: 0.0394 - val_acc: 0.9882\n",
            "Epoch 43/50\n",
            "48000/48000 [==============================] - 1s 30us/step - loss: 0.0377 - acc: 0.9876 - val_loss: 0.0405 - val_acc: 0.9874\n",
            "Epoch 44/50\n",
            "48000/48000 [==============================] - 1s 30us/step - loss: 0.0388 - acc: 0.9865 - val_loss: 0.0438 - val_acc: 0.9865\n",
            "Epoch 45/50\n",
            "48000/48000 [==============================] - 1s 30us/step - loss: 0.0383 - acc: 0.9876 - val_loss: 0.0387 - val_acc: 0.9888\n",
            "Epoch 46/50\n",
            "48000/48000 [==============================] - 1s 31us/step - loss: 0.0370 - acc: 0.9878 - val_loss: 0.0399 - val_acc: 0.9883\n",
            "Epoch 47/50\n",
            "48000/48000 [==============================] - 1s 31us/step - loss: 0.0366 - acc: 0.9878 - val_loss: 0.0440 - val_acc: 0.9867\n",
            "Epoch 48/50\n",
            "48000/48000 [==============================] - 1s 30us/step - loss: 0.0368 - acc: 0.9874 - val_loss: 0.0399 - val_acc: 0.9879\n",
            "Epoch 49/50\n",
            "48000/48000 [==============================] - 1s 30us/step - loss: 0.0385 - acc: 0.9874 - val_loss: 0.0393 - val_acc: 0.9885\n",
            "Epoch 50/50\n",
            "48000/48000 [==============================] - 1s 30us/step - loss: 0.0369 - acc: 0.9877 - val_loss: 0.0397 - val_acc: 0.9878\n"
          ],
          "name": "stdout"
        }
      ]
    },
    {
      "cell_type": "code",
      "metadata": {
        "id": "uMxVfLI5J0HZ",
        "colab_type": "code",
        "outputId": "8e6d6283-f9b9-47d8-c80f-27fb431410eb",
        "colab": {
          "base_uri": "https://localhost:8080/",
          "height": 301
        }
      },
      "source": [
        "x_plot = list(range(1,51))\n",
        "plt.figure()\n",
        "plt.xlabel('Epochs')\n",
        "plt.ylabel('acc')\n",
        "plt.plot(x_plot, network_history.history['acc'])\n",
        "plt.plot(x_plot, network_history.history['val_acc'])\n",
        "plt.legend(['Training', 'Validation'])"
      ],
      "execution_count": 0,
      "outputs": [
        {
          "output_type": "execute_result",
          "data": {
            "text/plain": [
              "<matplotlib.legend.Legend at 0x7faa9ac9ce48>"
            ]
          },
          "metadata": {
            "tags": []
          },
          "execution_count": 38
        },
        {
          "output_type": "display_data",
          "data": {
            "image/png": "[encoded data removed]",
            "text/plain": [
              "<Figure size 432x288 with 1 Axes>"
            ]
          },
          "metadata": {
            "tags": []
          }
        }
      ]
    },
    {
      "cell_type": "code",
      "metadata": {
        "id": "YAarpS-yQUz1",
        "colab_type": "code",
        "outputId": "990349db-ce61-4a8c-9d63-e686ba85ee21",
        "colab": {
          "base_uri": "https://localhost:8080/",
          "height": 297
        }
      },
      "source": [
        "x_plot = list(range(1,51))\n",
        "plt.figure()\n",
        "plt.xlabel('Epochs')\n",
        "plt.ylabel('loss')\n",
        "plt.plot(x_plot, network_history.history['loss'])\n",
        "plt.plot(x_plot, network_history.history['val_loss'])\n",
        "plt.legend(['Training', 'Validation'])"
      ],
      "execution_count": 0,
      "outputs": [
        {
          "output_type": "execute_result",
          "data": {
            "text/plain": [
              "<matplotlib.legend.Legend at 0x7faa9ac0fdd8>"
            ]
          },
          "metadata": {
            "tags": []
          },
          "execution_count": 39
        },
        {
          "output_type": "display_data",
          "data": {
            "image/png": "[encoded data removed]",
            "text/plain": [
              "<Figure size 432x288 with 1 Axes>"
            ]
          },
          "metadata": {
            "tags": []
          }
        }
      ]
    },
    {
      "cell_type": "code",
      "metadata": {
        "id": "qz5Ddof7T8c0",
        "colab_type": "code",
        "colab": {}
      },
      "source": [
        "y_pred=model.predict_classes(x_test)"
      ],
      "execution_count": 0,
      "outputs": []
    },
    {
      "cell_type": "code",
      "metadata": {
        "id": "pmi_iGJ_IMr0",
        "colab_type": "code",
        "outputId": "a44b23d9-9c42-4372-cd0d-209d53e9ce64",
        "colab": {
          "base_uri": "https://localhost:8080/",
          "height": 54
        }
      },
      "source": [
        "model.evaluate(x_test, y_test)"
      ],
      "execution_count": 0,
      "outputs": [
        {
          "output_type": "stream",
          "text": [
            "10000/10000 [==============================] - 1s 70us/step\n"
          ],
          "name": "stdout"
        },
        {
          "output_type": "execute_result",
          "data": {
            "text/plain": [
              "[0.03818156121129868, 0.988]"
            ]
          },
          "metadata": {
            "tags": []
          },
          "execution_count": 40
        }
      ]
    },
    {
      "cell_type": "code",
      "metadata": {
        "id": "DxqI66yRSlV7",
        "colab_type": "code",
        "outputId": "0b132419-20aa-465c-8c9f-2198cfc9a7be",
        "colab": {
          "base_uri": "https://localhost:8080/",
          "height": 326
        }
      },
      "source": [
        "cr=classification_report(Y_test, y_pred)\n",
        "print(cr)"
      ],
      "execution_count": 0,
      "outputs": [
        {
          "output_type": "stream",
          "text": [
            "              precision    recall  f1-score   support\n",
            "\n",
            "           0       0.99      0.99      0.99       980\n",
            "           1       0.99      1.00      0.99      1135\n",
            "           2       0.99      0.99      0.99      1032\n",
            "           3       0.99      0.99      0.99      1010\n",
            "           4       0.99      1.00      0.99       982\n",
            "           5       0.98      0.99      0.98       892\n",
            "           6       0.99      0.99      0.99       958\n",
            "           7       0.98      0.99      0.98      1028\n",
            "           8       0.99      0.98      0.98       974\n",
            "           9       0.99      0.98      0.98      1009\n",
            "\n",
            "    accuracy                           0.99     10000\n",
            "   macro avg       0.99      0.99      0.99     10000\n",
            "weighted avg       0.99      0.99      0.99     10000\n",
            "\n"
          ],
          "name": "stdout"
        }
      ]
    },
    {
      "cell_type": "code",
      "metadata": {
        "id": "-hVtQFC3U2sd",
        "colab_type": "code",
        "outputId": "65434eb0-3786-4a84-ae42-0611c36cede8",
        "colab": {
          "base_uri": "https://localhost:8080/",
          "height": 381
        }
      },
      "source": [
        "cm=confusion_matrix(Y_test,y_pred)\n",
        "prf=precision_recall_fscore_support(Y_test,y_pred)\n",
        "\n",
        "print(f\"confusion matrix\\n {cm}\")\n",
        "print(f\"precision\\n {prf[0]}\")\n",
        "print(f\"recall\\n {prf[1]}\")\n",
        "print(f\"f-score\\n {prf[2]}\")"
      ],
      "execution_count": 0,
      "outputs": [
        {
          "output_type": "stream",
          "text": [
            "confusion matrix\n",
            " [[ 975    0    0    0    0    0    4    1    0    0]\n",
            " [   0 1132    1    0    0    1    1    0    0    0]\n",
            " [   2    1 1021    0    2    0    0    4    2    0]\n",
            " [   0    1    2  997    0    6    1    2    1    0]\n",
            " [   0    0    0    0  978    0    1    0    1    2]\n",
            " [   1    0    0    5    0  881    2    1    1    1]\n",
            " [   4    2    0    0    3    3  945    0    1    0]\n",
            " [   0    4    7    0    0    0    0 1014    1    2]\n",
            " [   1    0    4    3    0    3    2    4  951    6]\n",
            " [   0    1    1    1    9    3    0    6    2  986]]\n",
            "precision\n",
            " [0.99186165 0.99211218 0.98552124 0.99105368 0.9858871  0.98216276\n",
            " 0.98849372 0.98255814 0.990625   0.9889669 ]\n",
            "recall\n",
            " [0.99489796 0.99735683 0.98934109 0.98712871 0.99592668 0.98766816\n",
            " 0.98643006 0.98638132 0.97638604 0.97720515]\n",
            "f-score\n",
            " [0.99337748 0.99472759 0.98742747 0.9890873  0.99088146 0.98490777\n",
            " 0.98746082 0.98446602 0.98345398 0.98305085]\n"
          ],
          "name": "stdout"
        }
      ]
    }
  ]
}